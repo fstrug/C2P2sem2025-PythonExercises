{
 "cells": [
  {
   "cell_type": "markdown",
   "id": "10b94012-4684-4478-8b9b-b87ba0f1b8a7",
   "metadata": {},
   "source": [
    "# Awkward Array quickstart\n",
    "From the awkward array documentation found [here](https://awkward-array.org/doc/main/), \"Awkward Array is a library for nested, variable-sized data, including arbitrary-length lists, records, mixed types, and missing data, using NumPy-like idioms.\" Awkward array's API makes columnar analysis straightforward to implement in Python. Columnar analysis is advantageous to row-wise analysis as it drastically reduces run time by utilizing memory more effectively and reducing the total number of computer instructions. In this section, we will discuss building awkward arrays and some simple operations. \n",
    "\n",
    "## Creating an Awkward Array\n",
    "First `import awkward` and create a simple jagged array."
   ]
  },
  {
   "cell_type": "code",
   "execution_count": null,
   "id": "b503277b-3298-414b-940f-b52d422f1f8c",
   "metadata": {},
   "outputs": [],
   "source": [
    "import awkward as ak"
   ]
  },
  {
   "cell_type": "code",
   "execution_count": null,
   "id": "c87b2ff4-2264-4407-a5e5-dc84eec9678b",
   "metadata": {},
   "outputs": [],
   "source": [
    "array = ak.Array([[5,4,4],[2],[3,5]])\n",
    "array"
   ]
  },
  {
   "cell_type": "markdown",
   "id": "46a32d82-32b9-475b-a597-db3e15aaecc0",
   "metadata": {},
   "source": [
    "Awkward array entries can be read the same way as a python list or numpy array with indexing. Lets read the 3rd row's 2nd entry as an example."
   ]
  },
  {
   "cell_type": "code",
   "execution_count": null,
   "id": "48e12c86-00a1-434f-aa69-f4c722ad2abe",
   "metadata": {},
   "outputs": [],
   "source": [
    "print(array[2,1])"
   ]
  },
  {
   "cell_type": "markdown",
   "id": "4da9ce97-5aa0-4bff-9b9b-e00264c912f9",
   "metadata": {},
   "source": [
    "# Matrix Manipulations\n",
    "\n"
   ]
  },
  {
   "cell_type": "markdown",
   "id": "16557b2d-7381-4e8d-877b-dc2ad55b5085",
   "metadata": {},
   "source": [
    "## Array Arithmetic\n",
    "Let's perform some simple manipulations with this array. It is possible to add arrays, multiple arrays element wise, and multiply arrays by a scalar. Check that the below result makes sense with pen and paper."
   ]
  },
  {
   "cell_type": "code",
   "execution_count": null,
   "id": "8c1ad7f5-5ca9-48f0-8d54-41f587ab5edc",
   "metadata": {},
   "outputs": [],
   "source": [
    "array*array+5*array"
   ]
  },
  {
   "cell_type": "markdown",
   "id": "f8f76712-3bbe-4eae-bc32-32f737ee3b44",
   "metadata": {},
   "source": [
    "The line \"type: 3 * var * int64\" is read as follows. The array has 3 entries of variable (var) length, where the entries are of datatype int64. Take a look at the two examples below, can you understand the **\"type\"** output?"
   ]
  },
  {
   "cell_type": "code",
   "execution_count": null,
   "id": "c9f46c1c-702f-4d16-b261-6de68c12cbe0",
   "metadata": {},
   "outputs": [],
   "source": [
    "array1 = ak.Array([1.,2.,3.])\n",
    "array1"
   ]
  },
  {
   "cell_type": "code",
   "execution_count": null,
   "id": "60bb9516-5113-461c-bb9b-7fc111db7fd4",
   "metadata": {},
   "outputs": [],
   "source": [
    "array2 = ak.Array([[2,3.2],[[2,3],[5,6], [10,10]]])\n",
    "array2"
   ]
  },
  {
   "cell_type": "markdown",
   "id": "467a72e4-663c-4b82-8987-325f24b5cadf",
   "metadata": {},
   "source": [
    "## Products and Sums (Reducers)"
   ]
  },
  {
   "cell_type": "markdown",
   "id": "3711601d-7b8a-46a5-95e9-e6a5be4a77c3",
   "metadata": {},
   "source": [
    "Suppose we want to multiply the values in a row together. In awkward array this is accomplished by calling `ak.prod()` and defining which axis to multiply along. `axis=1` corresponds to multiplying the elements of each inner array."
   ]
  },
  {
   "cell_type": "code",
   "execution_count": null,
   "id": "75c2d54e-c754-4727-b193-c8ad5549528a",
   "metadata": {},
   "outputs": [],
   "source": [
    "row_product = ak.prod(array, axis=1)\n",
    "print(\"Row Product: \\t\", row_product, \" Row Product dimension: \\t\", row_product.ndim)\n",
    "column_product = ak.prod(array, axis = 0)\n",
    "print(\"Column Product: \", column_product, \" Column Product dimension: \", column_product.ndim)"
   ]
  },
  {
   "cell_type": "markdown",
   "id": "088ff40d-ed52-4ee7-94b7-733516ae6267",
   "metadata": {},
   "source": [
    "\n",
    "If you instead set `axis=0`, it will multiply the elements along the columns of this array. This operation has reduced the dimension of the array from 2 to 1, hence this operation is a 'reducer'. It is neccesarry to keep in mind that for certain operations between awkward arrays to work, they must be of the same dimension. If instead `ak.prod` returned:\n"
   ]
  },
  {
   "cell_type": "code",
   "execution_count": null,
   "id": "52bb7e61-6939-4cfc-ba18-56588d71c7df",
   "metadata": {},
   "outputs": [],
   "source": [
    "unflattened_row_product = ak.Array([[80],[2],[15]])\n",
    "unflattened_row_product"
   ]
  },
  {
   "cell_type": "markdown",
   "id": "2e54c8c5-6522-49c6-a12e-58ec2a4d16a3",
   "metadata": {},
   "source": [
    "We may need to reduce the resulting array dimension somehow for the analysis with a function like `ak.flatten()`. You may even need to increase the dimension depending on the computation with a function like `ak.singletons()`. Below we can make `row_product` match `unflattened_row_product`.\n",
    "                                        \n"
   ]
  },
  {
   "cell_type": "code",
   "execution_count": null,
   "id": "a6d27cb7-d5ec-4701-9fac-057b23108709",
   "metadata": {},
   "outputs": [],
   "source": [
    "ak.singletons(row_product)"
   ]
  },
  {
   "cell_type": "markdown",
   "id": "791d33d0-b1dd-46f5-a46e-16d535ac617f",
   "metadata": {},
   "source": [
    "Similarly to `ak.prod()`, we can sum along a given axis by calling `ak.sum()`."
   ]
  },
  {
   "cell_type": "code",
   "execution_count": null,
   "id": "dc7d6bf9-eb89-4b23-9cdd-a78335608894",
   "metadata": {},
   "outputs": [],
   "source": [
    "row_sum = ak.sum(array, axis=1)\n",
    "row_sum"
   ]
  },
  {
   "cell_type": "markdown",
   "id": "44ed16ae-4f35-4536-925e-2483270e23c9",
   "metadata": {},
   "source": [
    "## Boolean Operations\n",
    "Boolean operations can be performed on awkward arrays element-wise. This is often done when evaluating selection criteria. Let's obtain an array of booleans containing the information of which entries are $> 3$."
   ]
  },
  {
   "cell_type": "code",
   "execution_count": null,
   "id": "9e755c80-44c3-44e3-8b3a-1fcd616509d9",
   "metadata": {},
   "outputs": [],
   "source": [
    "selection = array > 3\n",
    "selection"
   ]
  },
  {
   "cell_type": "markdown",
   "id": "b3e2682b-6488-4679-bc28-7f990184201f",
   "metadata": {},
   "source": [
    "With `selection`, we can obtain information about which rows contain at least one entry satisfying the criterion by calling `ak.any()`."
   ]
  },
  {
   "cell_type": "code",
   "execution_count": null,
   "id": "2c4f64b1-9e96-44dc-8b3b-2b54644de202",
   "metadata": {},
   "outputs": [],
   "source": [
    "good_row = ak.any(selection, axis = 1)\n",
    "good_row"
   ]
  },
  {
   "cell_type": "markdown",
   "id": "56bff506-f453-47b3-8683-6e15d4a22c97",
   "metadata": {},
   "source": [
    "`ak.any()` is analogous to an OR operation, and the method `ak.all()` is analogous to an AND operation. "
   ]
  },
  {
   "cell_type": "code",
   "execution_count": null,
   "id": "179728e0-dfeb-4dd0-afb1-2b710522599f",
   "metadata": {},
   "outputs": [],
   "source": [
    "ak.all(selection, axis = 1)"
   ]
  },
  {
   "cell_type": "markdown",
   "id": "9e3ee5e3-b3a1-41b4-8449-66e0c7300502",
   "metadata": {},
   "source": [
    "# Masking (Applying Selection Cuts)\n",
    "Now consider that we may want to remove entries that dont match our criterion. This is done by masking the array. We pass an array of booleans that define what entries to keep or exclude. Masking can be done at any depth of the array. Let's first 'cut' out all the entries less than 3 and compare the original array with the new cut array."
   ]
  },
  {
   "cell_type": "code",
   "execution_count": null,
   "id": "dde8a514-5bd7-4afc-a865-b4c8d3259949",
   "metadata": {},
   "outputs": [],
   "source": [
    "# Recalculate masking array\n",
    "selection = array > 3\n",
    "#Pass cut as an array of booleans\n",
    "masked_array = array[selection]\n",
    "print(\"Original array\", array)\n",
    "print(\"Cut array\", masked_array)"
   ]
  },
  {
   "cell_type": "markdown",
   "id": "26eb58bf-09bb-4469-8652-d82a25d67099",
   "metadata": {},
   "source": [
    "The entries with value less than or equal to 3 have been removed from the array. If we also want to remove the rows without any entries, we can do:"
   ]
  },
  {
   "cell_type": "code",
   "execution_count": null,
   "id": "ffe9cd8c-25fd-4f56-bb14-63cc11dc3a77",
   "metadata": {},
   "outputs": [],
   "source": [
    "rows_pass = ak.any(selection, axis = 1)\n",
    "masked_array = masked_array[rows_pass]\n",
    "print(masked_array)"
   ]
  },
  {
   "cell_type": "markdown",
   "id": "a715cb2b-d7d4-4a23-9eb3-b8966d2aeb76",
   "metadata": {},
   "source": [
    "# Building Arrays of Records\n",
    "\n",
    "\"In Awkward Array, a “record” is a structure containing a fixed-length set of typed, possibly named fields.\" For LHC data, an event is akin to a record. Let's build up a representative awkward array of data you might get from `Uproot` of muon data.\n",
    "\n",
    "From a list of dictionaries."
   ]
  },
  {
   "cell_type": "code",
   "execution_count": null,
   "id": "64bdf0a0-06cc-4482-b81c-c68ea622acfc",
   "metadata": {},
   "outputs": [],
   "source": [
    "content_dict = [\n",
    "    {\"muon_pt\" : 101.2, \"muon_eta\" : 0.1, \"muon_phi\" : -1.2},\n",
    "    {\"muon_pt\" : 56.7, \"muon_eta\" : 2.3, \"muon_phi\" : 3.1},\n",
    "    {\"muon_pt\" : 3.2, \"muon_eta\" : -1.4, \"muon_phi\" : 0.56},\n",
    "]\n",
    "muon_data = ak.Array(content_dict)\n",
    "muon_data"
   ]
  },
  {
   "cell_type": "markdown",
   "id": "40d00589-d60b-4e08-accc-97496c3ca428",
   "metadata": {},
   "source": [
    "We can pick out a \"field\" by passing the field name in brackets to the array."
   ]
  },
  {
   "cell_type": "code",
   "execution_count": null,
   "id": "15ed6964-45b8-48fa-8dd9-4afbc1d51fdb",
   "metadata": {},
   "outputs": [],
   "source": [
    "muon_data[\"muon_pt\"]"
   ]
  },
  {
   "cell_type": "markdown",
   "id": "c95360e0-c531-4616-a6bc-17742dcd7654",
   "metadata": {},
   "source": [
    "The same can be done by requesting the array attribute for a given field"
   ]
  },
  {
   "cell_type": "code",
   "execution_count": null,
   "id": "87b75e41-cbdb-4793-85ac-2b48e01fbaeb",
   "metadata": {},
   "outputs": [],
   "source": [
    "muon_data.muon_pt"
   ]
  },
  {
   "cell_type": "markdown",
   "id": "825b28d5-248d-4043-a943-bce5ace26d46",
   "metadata": {},
   "source": [
    "The dictionary syntax albeit clear is unweildly for large sets of data. Alternatively, we can build arrays with `ak.zip()` from columns of data which is more intuitive when working with data."
   ]
  },
  {
   "cell_type": "code",
   "execution_count": null,
   "id": "acfc3f7f-1f7e-46aa-9c81-d1ad8271642d",
   "metadata": {},
   "outputs": [],
   "source": [
    "muon_pt = [101.2, 56.7, 3.2]\n",
    "muon_eta = [0.1, 2.3, -1.4]\n",
    "muon_phi = [-1.2, 3.1, 0.56]\n",
    "muon_data_zip = ak.zip(\n",
    "    {\n",
    "        \"muon_pt\": muon_pt,\n",
    "        \"muon_eta\": muon_eta,\n",
    "        \"muon_phi\": muon_phi,\n",
    "    }\n",
    ")\n",
    "muon_data_zip"
   ]
  },
  {
   "cell_type": "markdown",
   "id": "d9ee5f09-cb9b-4222-944f-c25d9ba2c985",
   "metadata": {},
   "source": [
    "# Conclusion\n",
    "Awkward array is just as capable as other data structures at performing calculations and filtering data. The operations shown will cover most of the techniques needed for an analysis. Now we will get some practice working with awkward arrays."
   ]
  },
  {
   "cell_type": "markdown",
   "id": "37266906-4f84-464e-9c2a-db64285aa9e4",
   "metadata": {},
   "source": [
    "___\n",
    "# Exercises"
   ]
  },
  {
   "cell_type": "markdown",
   "id": "5bbc628d-fb82-4da2-9249-c74aeff3e763",
   "metadata": {},
   "source": [
    "## Exercise 1: \n",
    "Compute the sum of all odd-valued integers of the array below. Do so using python 'for loops' and then again using awkward array's API to implement a columnar approach. How much of a speed-up does using awkward array give compared to using for loops? Verify that your result make sense and agrees between the two methods."
   ]
  },
  {
   "cell_type": "code",
   "execution_count": null,
   "id": "c84fac15-6c41-4cf9-b86e-8d8fedf0b9d4",
   "metadata": {},
   "outputs": [],
   "source": [
    "import numpy as np\n",
    "import awkward as ak\n",
    "# Create a sample NumPy array\n",
    "dtype = np.int32\n",
    "shape = (100000)\n",
    "data = np.random.default_rng().integers(low=0,high=10,size = shape)\n",
    "ak_data = ak.Array(data)\n",
    "print(ak_data)"
   ]
  },
  {
   "cell_type": "code",
   "execution_count": null,
   "id": "0d3ceeb5-fdd9-4b9f-b5c9-f5044da983e2",
   "metadata": {},
   "outputs": [],
   "source": [
    "%%timeit\n",
    "#row-wise\n",
    "sum_row = 0\n",
    "# Fix me\n",
    "\n",
    "sum_row"
   ]
  },
  {
   "cell_type": "code",
   "execution_count": null,
   "id": "3619d27f-36ac-4ede-b287-6350ee32064b",
   "metadata": {},
   "outputs": [],
   "source": [
    "%%timeit\n",
    "#column-wise\n",
    "sum_columnar = 0\n",
    "# Fix me\n",
    "\n",
    "sum_columnar"
   ]
  },
  {
   "cell_type": "code",
   "execution_count": null,
   "id": "a3523301-b1c9-4c73-bbc7-6e2b92b574e3",
   "metadata": {},
   "outputs": [],
   "source": [
    "# Compare results of two methods\n",
    "assert (sum_columnar == sum_row) ## Fix-me"
   ]
  },
  {
   "cell_type": "markdown",
   "id": "85e37ef0-4e4a-4599-bdd5-cd3a11444555",
   "metadata": {},
   "source": [
    "## Exercise 2: \n",
    "Using weather data from the KCLT, KMDW, KCQT, and KSEA weather stations determine the number of days with above average temperatures, record setting high temperatures, and record setting precipitation for each. Then how does the actual total precipitation compare to the average total precipitation? Do you notice any irregular weather patterns for the time period?\n",
    "\n",
    "Plot the actual, average, and record min/max temperatures. Plot the actual, average, and record precipitation. Does this change your answers from above?\n",
    "\n",
    "Note: Your solution should only use awkward array's API.\n",
    "\n",
    "Inspiration taken from: https://github.com/fivethirtyeight/data/tree/master/us-weather-history"
   ]
  },
  {
   "cell_type": "code",
   "execution_count": null,
   "id": "063ee535-2d7b-46c7-aa74-79142caf1668",
   "metadata": {},
   "outputs": [],
   "source": [
    "import awkward as ak\n",
    "#Read the data\n",
    "ak_data_MDW = ak.from_parquet(\"data/KMDW.parquet\")\n",
    "ak_data_CLT = ak.from_parquet(\"data/KCLT.parquet\")\n",
    "ak_data_CQT = ak.from_parquet(\"data/KCQT.parquet\")\n",
    "ak_data_SEA = ak.from_parquet(\"data/KSEA.parquet\")\n",
    "\n",
    "def run_weather_analysis(ak_data, city):\n",
    "    print(\"Analyzing {}'s weather data\".format(city))\n",
    "    ###################################################\n",
    "    ### a) Find # of days with above record max temperature\n",
    "    # Fix me\n",
    "    \n",
    "    # Result\n",
    "    print(\"Days setting a new record high: \", ) #Fix me\n",
    "    \n",
    "    ###################################################\n",
    "    ### b) Find # of days with above average max temperature\n",
    "    # Fix me\n",
    "    \n",
    "    # Result\n",
    "    print(\"Days above average max: \", ) #Fix me\n",
    "    \n",
    "    ###################################################\n",
    "    ### c) Find # of days with record setting precipitation\n",
    "    #Fix me\n",
    "    \n",
    "    # Result\n",
    "    print(\"Days setting a new record precipitation: \", len(ak_data[record_set_precip]))\n",
    "    \n",
    "    ###################################################\n",
    "    ### d) Total precipitation\n",
    "    # Fix me\n",
    "\n",
    "    print(\"Total actual precipitation: \", total_actual_precip, \"in\")\n",
    "    print(\"Total average precipitation: \", total_average_precip, \"in\")\n",
    "    print(\"\\n\")\n",
    "    ###################################################\n",
    "    \n",
    "run_weather_analysis(ak_data_MDW, \"Chicago, IL\")\n",
    "run_weather_analysis(ak_data_CLT, \"Charleston, NC\")\n",
    "run_weather_analysis(ak_data_CQT, \"Los Angeles, CA\")\n",
    "run_weather_analysis(ak_data_SEA, \"Seattle, WA\")"
   ]
  },
  {
   "cell_type": "code",
   "execution_count": null,
   "id": "18a59053-2f9e-4edc-9be1-c7ca71d5de1e",
   "metadata": {},
   "outputs": [],
   "source": [
    "import matplotlib.pyplot as plt\n",
    "### Visualization\n",
    "def make_plot_temp(ak_data, city, save_file):\n",
    "    print(\"Generating {}'s weather data plot\".format(city))\n",
    "    date_order = ak_data['date']\n",
    "\n",
    "    # Initialize figure, define size\n",
    "    fig, ax1 = plt.subplots(figsize=(15, 8))\n",
    "    \n",
    "    \n",
    "    # Create the bars showing all-time record highs and lows\n",
    "    plt.bar(date_order,\n",
    "            ak_data['record_max_temp'] - ak_data['record_min_temp'],\n",
    "            bottom=ak_data['record_min_temp'],\n",
    "            edgecolor='none', color='#C3BBA4', width=1)\n",
    "    \n",
    "    # Create the bars showing average highs and lows\n",
    "    plt.bar(date_order, ak_data[\"average_max_temp\"] - ak_data[\"average_min_temp\"],\n",
    "            bottom=ak_data[\"average_min_temp\"],\n",
    "            edgecolor='none', color='#9A9180', width=1) \n",
    "    \n",
    "    #Create bars showing day high/low\n",
    "    plt.bar(date_order,\n",
    "            ak_data['actual_max_temp'] - ak_data['actual_min_temp'],\n",
    "            bottom = ak_data['actual_min_temp'],\n",
    "            edgecolor = 'black', linewidth = 0.5, color = '#5A3B49', width = 1)\n",
    "    \n",
    "\n",
    "    ###################################################\n",
    "    # e) Plot highs\n",
    "    \n",
    "    \n",
    "    record_set_high = # Fix me (Hint: is a mask)\n",
    "    highs = ak_data[record_set_high]\n",
    "    \n",
    "    plt.scatter(highs[\"date\"], highs[\"actual_max_temp\"] + 1,\n",
    "               alpha = 0.75, s = 15, linewidth=0, color='r')\n",
    "\n",
    "    #########################################################################\n",
    "    # Formatting\n",
    "    plt.ylabel(r'Temperature ($^\\circ$F)', fontsize=12)\n",
    "    plt.title(\"{}'s weather, July 2014 - June 2015\\n\\n\".format(city), fontsize=20)\n",
    "    plt.grid(alpha = 0.5, linestyle = '--')\n",
    "    plt.savefig(save_file)\n",
    "\n",
    "make_plot_temp(ak_data_SEA, \"Seattle, WA\", \"plots/KSEA.png\")\n",
    "make_plot_temp(ak_data_MDW, \"Chicago, IL\", \"plots/KMDW.png\")\n",
    "make_plot_temp(ak_data_CLT, \"Charleston, NC\", \"plots/KCLT.png\")\n",
    "make_plot_temp(ak_data_CQT, \"Los Angeles, CA\", \"plots/KCQT.png\")"
   ]
  },
  {
   "cell_type": "code",
   "execution_count": null,
   "id": "ec990c25-5af3-4d93-90e3-983f2ab9cd44",
   "metadata": {},
   "outputs": [],
   "source": [
    "def make_plot_precip(ak_data, city):\n",
    "    print(\"Generating {}'s precipitation data plot\".format(city))\n",
    "    date_order = ak_data['date']\n",
    "    \n",
    "    # Initialize figure, define size\n",
    "    fig, ax1 = plt.subplots(figsize=(15, 7))\n",
    "\n",
    "    # Grab relevant columns\n",
    "    record_precip = ak_data[\"record_precipitation\"]\n",
    "    actual_precip = ak_data[\"actual_precipitation\"]\n",
    "    average_precip = ak_data[\"average_precipitation\"]\n",
    "    \n",
    "    # Create the bars showing all-time record high\n",
    "    plt.bar(date_order, record_precip,\n",
    "            edgecolor='none', color='#C3BBA4', width=1)\n",
    "    \n",
    "    #Create bars showing average\n",
    "    plt.bar(date_order, average_precip,\n",
    "            edgecolor = 'black', linewidth = 0.5, color = '#5A3B49', width = 1)\n",
    "    \n",
    "    plt.plot(date_order, actual_precip, color = 'r', linewidth = 0.8)\n",
    "\n",
    "    #Mark Record days\n",
    "    record_days = record_precip <= actual_precip\n",
    "    record_precip_data = ak_data[record_days]\n",
    "    plt.scatter(record_precip_data[\"date\"], record_precip_data[\"actual_precipitation\"] + 0.2, alpha = 0.75)\n",
    "\n",
    "    #########################################################################\n",
    "    # Formatting\n",
    "    plt.ylabel(r'Precipitation (in)', fontsize=12)\n",
    "    plt.title(\"{}'s precipitation, July 2014 - June 2015\\n\\n\".format(city), fontsize=20)\n",
    "    plt.grid(alpha = 0.5, linestyle = '--')\n",
    "    plt.ylim(0,4)\n",
    "\n",
    "make_plot_precip(ak_data_CQT, \"Los Angeles, CA\")"
   ]
  },
  {
   "cell_type": "markdown",
   "id": "eb083ffb-c239-4b2d-8054-592fae337aec",
   "metadata": {},
   "source": [
    "## Bonus Exercise 3: Fractals\n",
    "\"The Mandelbrot set (/ˈmændəlbroʊt, -brɒt/) is a two-dimensional set with a relatively simple definition that exhibits great complexity, especially as it is magnified. It is popular for its aesthetic appeal and fractal structures. The set is defined in the complex plane as the complex numbers  ${\\displaystyle c}$ for which the function ${\\displaystyle f_{c}(z)=z^{2}+c}$ does not diverge to infinity when iterated starting at ${\\displaystyle z=0}$, i.e., for which the sequence ${\\displaystyle f_{c}(0)}$, ${\\displaystyle f_{c}(f_{c}(0))}$, etc., remains bounded in absolute value.\" - Wikipedia\n",
    "\n",
    "Starting with the numpy implementation, solve the Mandelbrot set with only `awkward` api calls but leave `np.ogrid`. Describe the difference in performance. What differences/similarities in the underlying array objects can you attribute to the performance comparison?\n",
    "\n",
    "**Hint:** You may need to use `ak.fill_none`, `ak.mask`, `ak.zeros_like`, and `ak.ones_like` in your solution. Please use the awkward API reference guide found here for any API questions. https://awkward-array.org/doc/main/reference/index.html"
   ]
  },
  {
   "cell_type": "code",
   "execution_count": null,
   "id": "08ee8aaf-8b05-4216-a7c2-7a599797e3a0",
   "metadata": {},
   "outputs": [],
   "source": [
    "%%time\n",
    "import matplotlib.pyplot as plt\n",
    "import numpy as np\n",
    "### Numpy\n",
    "def run_numpy(height, width, real_min=-2, real_max=0.5, imag_min=-1.2, imag_max=1.2):\n",
    "    y, x = np.ogrid[imag_min:imag_max:height*1j, real_min:real_max:width*1j]\n",
    "    c = x + y*1j\n",
    "\n",
    "    z = np.zeros(c.shape, dtype=np.complex128)       # initial values of all elements of z are 0\n",
    "    picture = np.full(c.shape, 20, dtype=np.int64)   # initial values of all pixels are 20\n",
    "\n",
    "    for i in range(20):\n",
    "        z = z**2 + c\n",
    "        picture[(picture == 20) & (abs(z) > 2)] = i\n",
    "        \n",
    "    return picture\n",
    "\n",
    "fig, ax = plt.subplots(1, 1, figsize=(15, 10))\n",
    "\n",
    "with np.errstate(over=\"ignore\", invalid=\"ignore\"):   # ignore warnings about inf and nan values in z\n",
    "    im = ax.imshow(run_numpy(800, 1600));\n",
    "    plt.colorbar(im)"
   ]
  },
  {
   "cell_type": "code",
   "execution_count": null,
   "id": "9c86f22b-6955-4726-818d-265ac2d5dde8",
   "metadata": {},
   "outputs": [],
   "source": [
    "%%time\n",
    "import matplotlib.pyplot as plt\n",
    "import awkward as ak\n",
    "import numpy as np\n",
    "### Awkward\n",
    "def run_ak(height, width, real_min=-2, real_max=0.5, imag_min=-1.2, imag_max=1.2):\n",
    "    y, x = np.ogrid[imag_min:imag_max:height*1j, real_min:real_max:width*1j]\n",
    "    c = x + y*1j\n",
    "    z = #Fix me (Hint: initial values of all elements of z are 0)\n",
    " \n",
    "    picture = #Fix me\n",
    "    picture_out = #Fix me\n",
    "    \n",
    "    for i in range(20):\n",
    "        z = z**2 + c\n",
    "        picture_out = #Fix me\n",
    "    \n",
    "    return picture_out\n",
    "\n",
    "fig, ax = plt.subplots(1, 1, figsize=(15, 10))\n",
    "\n",
    "with np.errstate(over=\"ignore\", invalid=\"ignore\"):   # ignore warnings about inf and nan values in z\n",
    "    im = ax.imshow(run_ak(800, 1600));\n",
    "    plt.colorbar(im)\n",
    "    fig.show()"
   ]
  }
 ],
 "metadata": {
  "kernelspec": {
   "display_name": "Python [conda env:.conda-cuda12.2-py3.11-kvikio]",
   "language": "python",
   "name": "conda-env-.conda-cuda12.2-py3.11-kvikio-py"
  },
  "language_info": {
   "codemirror_mode": {
    "name": "ipython",
    "version": 3
   },
   "file_extension": ".py",
   "mimetype": "text/x-python",
   "name": "python",
   "nbconvert_exporter": "python",
   "pygments_lexer": "ipython3",
   "version": "3.11.10"
  }
 },
 "nbformat": 4,
 "nbformat_minor": 5
}
